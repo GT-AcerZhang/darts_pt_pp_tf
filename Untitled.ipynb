{
 "cells": [
  {
   "cell_type": "code",
   "execution_count": null,
   "metadata": {},
   "outputs": [],
   "source": [
    "%load_ext autoreload\n",
    "%autoreload 2\n",
    "%matplotlib inline\n",
    "\n",
    "# import sys\n",
    "# sys.path.append('..')"
   ]
  },
  {
   "cell_type": "code",
   "execution_count": null,
   "metadata": {},
   "outputs": [],
   "source": [
    "from preprocess import preprocess\n",
    "from darts_pt.search import Searching\n",
    "from darts_pt.train import Training\n",
    "from darts_pt.prediction import Prediction\n",
    "preprocess()\n",
    "s = Searching()\n",
    "s.search()\n",
    "t = Training()\n",
    "t.main_run()\n",
    "p = Prediction()\n",
    "p.predict()"
   ]
  },
  {
   "cell_type": "code",
   "execution_count": null,
   "metadata": {},
   "outputs": [],
   "source": [
    "from paddle.fluid import core\n",
    "core.is_compiled_with_cuda()"
   ]
  },
  {
   "cell_type": "code",
   "execution_count": null,
   "metadata": {},
   "outputs": [],
   "source": [
    "import paddle.fluid as fluid\n",
    "import numpy as np\n",
    "import pdb\n",
    "def test():\n",
    "#     pdb.set_trace()\n",
    "    with fluid.dygraph.guard():\n",
    "        value = np.random.rand(2,3).astype('float32')\n",
    "        a = fluid.dygraph.to_variable(value)\n",
    "        alpha = fluid.layers.create_parameter([1], 'float32')\n",
    "\n",
    "        linear = fluid.Linear(3, 2, dtype=\"float32\")\n",
    "        print((list(linear.parameters())))\n",
    "        adam = fluid.optimizer.Adam(parameter_list=linear.parameters())\n",
    "#         out = linear(a)\n",
    "        out = linear(value)\n",
    "        print(type(linear))\n",
    "#         out.backward()\n",
    "#         adam.minimize(out)\n",
    "#         linear.clear_gradients()\n",
    "test()"
   ]
  },
  {
   "cell_type": "code",
   "execution_count": null,
   "metadata": {},
   "outputs": [],
   "source": [
    "fluid.Conv2D?"
   ]
  },
  {
   "cell_type": "code",
   "execution_count": null,
   "metadata": {},
   "outputs": [],
   "source": []
  }
 ],
 "metadata": {
  "kernelspec": {
   "display_name": "Python 3",
   "language": "python",
   "name": "python3"
  },
  "language_info": {
   "codemirror_mode": {
    "name": "ipython",
    "version": 3
   },
   "file_extension": ".py",
   "mimetype": "text/x-python",
   "name": "python",
   "nbconvert_exporter": "python",
   "pygments_lexer": "ipython3",
   "version": "3.5.2"
  }
 },
 "nbformat": 4,
 "nbformat_minor": 2
}
