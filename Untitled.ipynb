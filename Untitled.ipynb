{
 "cells": [
  {
   "cell_type": "code",
   "execution_count": null,
   "metadata": {},
   "outputs": [],
   "source": [
    "%load_ext autoreload\n",
    "%autoreload 2\n",
    "%matplotlib inline"
   ]
  },
  {
   "cell_type": "code",
   "execution_count": null,
   "metadata": {},
   "outputs": [],
   "source": [
    "from preprocess import preprocess\n",
    "preprocess()"
   ]
  },
  {
   "cell_type": "code",
   "execution_count": null,
   "metadata": {},
   "outputs": [],
   "source": [
    "# paddlepaddle\n",
    "import paddle.fluid as fluid\n",
    "from darts_pp.search import Searching\n",
    "from darts_pp.train import Training\n",
    "from darts_pp.prediction import Prediction\n",
    "with fluid.dygraph.guard():\n",
    "    s = Searching()\n",
    "    s.search()\n",
    "    t = Training()\n",
    "    t.main_run()\n",
    "    p = Prediction()\n",
    "    p.predict()"
   ]
  },
  {
   "cell_type": "code",
   "execution_count": null,
   "metadata": {},
   "outputs": [],
   "source": [
    "# pytorch\n",
    "from darts_pt.search import Searching\n",
    "from darts_pt.train import Training\n",
    "from darts_pt.prediction import Prediction\n",
    "s = Searching()\n",
    "s.search()\n",
    "t = Training()\n",
    "t.main_run()\n",
    "p = Prediction()\n",
    "p.predict()"
   ]
  },
  {
   "cell_type": "code",
   "execution_count": null,
   "metadata": {},
   "outputs": [],
   "source": [
    "# tensorflow\n",
    "from darts_tf.search import Searching\n",
    "from darts_tf.train import Training\n",
    "from darts_tf.prediction import Prediction\n",
    "s = Searching()\n",
    "s.search()\n",
    "t = Training()\n",
    "t.main_run()\n",
    "p = Prediction()\n",
    "p.predict()"
   ]
  },
  {
   "cell_type": "code",
   "execution_count": null,
   "metadata": {},
   "outputs": [],
   "source": []
  }
 ],
 "metadata": {
  "kernelspec": {
   "display_name": "Python 3",
   "language": "python",
   "name": "python3"
  },
  "language_info": {
   "codemirror_mode": {
    "name": "ipython",
    "version": 3
   },
   "file_extension": ".py",
   "mimetype": "text/x-python",
   "name": "python",
   "nbconvert_exporter": "python",
   "pygments_lexer": "ipython3",
   "version": "3.7.7"
  }
 },
 "nbformat": 4,
 "nbformat_minor": 2
}
